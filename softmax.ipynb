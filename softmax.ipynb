{
 "cells": [
  {
   "cell_type": "code",
   "execution_count": 1,
   "metadata": {
    "collapsed": true
   },
   "outputs": [],
   "source": [
    "import tensorflow as tf"
   ]
  },
  {
   "cell_type": "code",
   "execution_count": 3,
   "metadata": {},
   "outputs": [
    {
     "name": "stdout",
     "output_type": "stream",
     "text": [
      "[  9.99826491e-01   1.23388396e-04   5.01659961e-05]\n"
     ]
    }
   ],
   "source": [
    "sm = tf.nn.softmax([10, 1, 0.1])\n",
    "\n",
    "with tf.Session() as sess:\n",
    "    print(sess.run(sm))"
   ]
  },
  {
   "cell_type": "code",
   "execution_count": 6,
   "metadata": {},
   "outputs": [
    {
     "name": "stdout",
     "output_type": "stream",
     "text": [
      "[[  3.78350585e-44   9.99954581e-01   4.53978682e-05]]\n"
     ]
    }
   ],
   "source": [
    "w = tf.constant([[1, 1, 0], [0, 1, 1]], tf.float32)\n",
    "x = tf.constant([[10, 100]], tf.float32)\n",
    "y = tf.nn.softmax(tf.matmul(x, w))\n",
    "\n",
    "with tf.Session() as sess:\n",
    "    print(sess.run(y))"
   ]
  }
 ],
 "metadata": {
  "kernelspec": {
   "display_name": "Python 3",
   "language": "python",
   "name": "python3"
  },
  "language_info": {
   "codemirror_mode": {
    "name": "ipython",
    "version": 3
   },
   "file_extension": ".py",
   "mimetype": "text/x-python",
   "name": "python",
   "nbconvert_exporter": "python",
   "pygments_lexer": "ipython3",
   "version": "3.6.0"
  }
 },
 "nbformat": 4,
 "nbformat_minor": 2
}
